{
  "cells": [
    {
      "cell_type": "markdown",
      "metadata": {
        "id": "view-in-github",
        "colab_type": "text"
      },
      "source": [
        "<a href=\"https://colab.research.google.com/github/devrafael26/AutomacaoDeProcesso/blob/main/Projeto_An%C3%A1lise_de_Dados_com_PySpark.ipynb\" target=\"_parent\"><img src=\"https://colab.research.google.com/assets/colab-badge.svg\" alt=\"Open In Colab\"/></a>"
      ]
    },
    {
      "cell_type": "markdown",
      "source": [
        "- Primeiramente fizemos os uploads dos dataframes.\n",
        "- Após, a instalação do pyspark."
      ],
      "metadata": {
        "id": "sElChg9PgJ8h"
      },
      "id": "sElChg9PgJ8h"
    },
    {
      "cell_type": "code",
      "execution_count": null,
      "id": "a5478d76",
      "metadata": {
        "id": "a5478d76",
        "colab": {
          "base_uri": "https://localhost:8080/"
        },
        "outputId": "33c4920e-e4fc-4a69-e5e1-6b5dfbc0f998"
      },
      "outputs": [
        {
          "output_type": "stream",
          "name": "stdout",
          "text": [
            "Collecting pyspark\n",
            "  Using cached pyspark-3.5.0-py2.py3-none-any.whl\n",
            "Requirement already satisfied: py4j==0.10.9.7 in /usr/local/lib/python3.10/dist-packages (from pyspark) (0.10.9.7)\n",
            "Installing collected packages: pyspark\n",
            "Successfully installed pyspark-3.5.0\n"
          ]
        }
      ],
      "source": [
        "pip install pyspark"
      ]
    },
    {
      "cell_type": "markdown",
      "source": [
        "Importamos do pyspark, o SparkSeession para abrir nossa sessão, as funções SQL e a classe type para trabalharmos os tipos de dados."
      ],
      "metadata": {
        "id": "DUGRynoXL1zk"
      },
      "id": "DUGRynoXL1zk"
    },
    {
      "cell_type": "code",
      "execution_count": null,
      "id": "5c48a95e",
      "metadata": {
        "id": "5c48a95e"
      },
      "outputs": [],
      "source": [
        "import pyspark\n",
        "from pyspark.sql import SparkSession\n",
        "from pyspark.sql.functions import *\n",
        "from pyspark.sql.types import *"
      ]
    },
    {
      "cell_type": "code",
      "execution_count": null,
      "id": "d2c98b29",
      "metadata": {
        "id": "d2c98b29"
      },
      "outputs": [],
      "source": [
        "# Aqui abrimos e atribuímos nossa sessão ao objeto spark.\n",
        "spark = SparkSession.builder.master('colab').appName('vendas3').getOrCreate()"
      ]
    },
    {
      "cell_type": "code",
      "execution_count": null,
      "id": "75d9d888",
      "metadata": {
        "scrolled": true,
        "colab": {
          "base_uri": "https://localhost:8080/"
        },
        "id": "75d9d888",
        "outputId": "634b89ed-5957-4f4d-8839-3d66af8d376a"
      },
      "outputs": [
        {
          "output_type": "stream",
          "name": "stdout",
          "text": [
            "+---------+-----------------------------------------+----------------+--------------------+-----------------------+------------------------+\n",
            "|ID       |Descrição do Produto                     |Data de Emissão |Total da Nota Fiscal|Valor Impostos Federais|Valor Impostos Estaduais|\n",
            "+---------+-----------------------------------------+----------------+--------------------+-----------------------+------------------------+\n",
            "|99003200 | BOBINA TERMICA 1 VIA 80X40M             |2022-01-03      |270.0               |49.17                  |45.9                    |\n",
            "|99003200 | BOBINA TERMICA 1 VIA 80X40M             |2022-01-03      |280.0               |50.99                  |47.6                    |\n",
            "|99010356 | PLACA MAE BRX H81 LGA 1150 DDR3 (M) (UN)|2022-01-03      |750.0               |198.68                 |52.5                    |\n",
            "|99003200 | BOBINA TERMICA 1 VIA 80X40M             |2022-01-03      |135.0               |24.58                  |22.95                   |\n",
            "|99003200 | BOBINA TERMICA 1 VIA 80X40M             |2022-01-03      |135.0               |24.58                  |22.95                   |\n",
            "+---------+-----------------------------------------+----------------+--------------------+-----------------------+------------------------+\n",
            "only showing top 5 rows\n",
            "\n"
          ]
        }
      ],
      "source": [
        "df = spark.read.csv('/content/vendas3.csv', header=True, inferSchema=True)\n",
        "df.show(5, truncate=False)"
      ]
    },
    {
      "cell_type": "code",
      "execution_count": null,
      "id": "ae41f970",
      "metadata": {
        "colab": {
          "base_uri": "https://localhost:8080/"
        },
        "id": "ae41f970",
        "outputId": "38f94aa4-80ab-41a4-b68f-2d7f049abf1e"
      },
      "outputs": [
        {
          "output_type": "stream",
          "name": "stdout",
          "text": [
            "root\n",
            " |-- ID: string (nullable = true)\n",
            " |-- Descrição do Produto: string (nullable = true)\n",
            " |-- Data de Emissão : string (nullable = true)\n",
            " |-- Total da Nota Fiscal: string (nullable = true)\n",
            " |-- Valor Impostos Federais: double (nullable = true)\n",
            " |-- Valor Impostos Estaduais: double (nullable = true)\n",
            "\n"
          ]
        },
        {
          "output_type": "execute_result",
          "data": {
            "text/plain": [
              "ID                          0\n",
              "Descrição do Produto        0\n",
              "Data de Emissão             0\n",
              "Total da Nota Fiscal        0\n",
              "Valor Impostos Federais     0\n",
              "Valor Impostos Estaduais    0\n",
              "dtype: int64"
            ]
          },
          "metadata": {},
          "execution_count": 106
        }
      ],
      "source": [
        "# Aqui chamamos o dataframe através do método printSchema() para verificarmos os tipos de dados de cada coluna.\n",
        "# Em seguida, verificamos valores ausentes.\n",
        "df.printSchema()\n",
        "df.toPandas().isna().sum()"
      ]
    },
    {
      "cell_type": "markdown",
      "source": [
        "Renomeando algumas colunas."
      ],
      "metadata": {
        "id": "GtO5f1ja8A9V"
      },
      "id": "GtO5f1ja8A9V"
    },
    {
      "cell_type": "code",
      "execution_count": null,
      "id": "25518b23",
      "metadata": {
        "colab": {
          "base_uri": "https://localhost:8080/"
        },
        "id": "25518b23",
        "outputId": "ae6a44e7-dc9e-453c-bbf2-b21e4aa11bcb"
      },
      "outputs": [
        {
          "output_type": "stream",
          "name": "stdout",
          "text": [
            "+---------+-----------------------------------------+----------------+--------+------+-----+\n",
            "|ID       |Descricao                                |Data de Emissão |Total_NF|IPI   |ICMS |\n",
            "+---------+-----------------------------------------+----------------+--------+------+-----+\n",
            "|99003200 | BOBINA TERMICA 1 VIA 80X40M             |2022-01-03      |270.0   |49.17 |45.9 |\n",
            "|99003200 | BOBINA TERMICA 1 VIA 80X40M             |2022-01-03      |280.0   |50.99 |47.6 |\n",
            "|99010356 | PLACA MAE BRX H81 LGA 1150 DDR3 (M) (UN)|2022-01-03      |750.0   |198.68|52.5 |\n",
            "|99003200 | BOBINA TERMICA 1 VIA 80X40M             |2022-01-03      |135.0   |24.58 |22.95|\n",
            "|99003200 | BOBINA TERMICA 1 VIA 80X40M             |2022-01-03      |135.0   |24.58 |22.95|\n",
            "+---------+-----------------------------------------+----------------+--------+------+-----+\n",
            "only showing top 5 rows\n",
            "\n"
          ]
        }
      ],
      "source": [
        "df = df.withColumnRenamed(\"Descrição do Produto\", \"Descricao\")\\\n",
        ".withColumnRenamed(\"Total da Nota Fiscal\", \"Total_NF\")\\\n",
        ".withColumnRenamed(\"Valor Impostos Federais\", \"IPI\")\\\n",
        ".withColumnRenamed(\"Valor Impostos Estaduais\", \"ICMS\")\n",
        "df.show(5, truncate=False)"
      ]
    },
    {
      "cell_type": "code",
      "execution_count": null,
      "id": "e26c464e",
      "metadata": {
        "colab": {
          "base_uri": "https://localhost:8080/"
        },
        "id": "e26c464e",
        "outputId": "f4d4244b-7ccb-463f-c6b8-52a7077ddee6"
      },
      "outputs": [
        {
          "output_type": "stream",
          "name": "stdout",
          "text": [
            "+---------+--------------------+----------------+--------+------+-----+\n",
            "|       ID|           Descricao|Data de Emissão |Total_NF|   IPI| ICMS|\n",
            "+---------+--------------------+----------------+--------+------+-----+\n",
            "|99003200 | BOBINA TERMICA 1...|      2022-01-03|   270.0| 49.17| 45.9|\n",
            "|99003200 | BOBINA TERMICA 1...|      2022-01-03|   280.0| 50.99| 47.6|\n",
            "|99010356 | PLACA MAE BRX H8...|      2022-01-03|   750.0|198.68| 52.5|\n",
            "|99003200 | BOBINA TERMICA 1...|      2022-01-03|   135.0| 24.58|22.95|\n",
            "|99003200 | BOBINA TERMICA 1...|      2022-01-03|   135.0| 24.58|22.95|\n",
            "+---------+--------------------+----------------+--------+------+-----+\n",
            "only showing top 5 rows\n",
            "\n"
          ]
        }
      ],
      "source": [
        "df.show(5)"
      ]
    },
    {
      "cell_type": "markdown",
      "source": [
        "Importamos do módulo Datetime a classe date."
      ],
      "metadata": {
        "id": "BYPi10KW7ymA"
      },
      "id": "BYPi10KW7ymA"
    },
    {
      "cell_type": "code",
      "execution_count": null,
      "id": "392c9f40",
      "metadata": {
        "colab": {
          "base_uri": "https://localhost:8080/"
        },
        "id": "392c9f40",
        "outputId": "da1419bd-8d90-4394-c2a4-0a91a7ec013f"
      },
      "outputs": [
        {
          "output_type": "stream",
          "name": "stdout",
          "text": [
            "root\n",
            " |-- ID: integer (nullable = true)\n",
            " |-- Descricao: string (nullable = true)\n",
            " |-- Data de Emissão : string (nullable = true)\n",
            " |-- Total_NF: float (nullable = true)\n",
            " |-- IPI: float (nullable = true)\n",
            " |-- ICMS: float (nullable = true)\n",
            "\n"
          ]
        }
      ],
      "source": [
        "from datetime import date\n",
        "df = df.withColumn(\"Total_NF\", col(\"Total_NF\").cast(FloatType()))\n",
        "df = df.withColumn(\"IPI\", col(\"IPI\").cast(FloatType()))\n",
        "df = df.withColumn(\"ICMS\", col(\"ICMS\").cast(FloatType()))\n",
        "df = df.withColumn(\"ID\", col(\"ID\").cast(IntegerType()))\n",
        "df.printSchema()"
      ]
    },
    {
      "cell_type": "markdown",
      "source": [
        "Usando a função sum(), calculamos qual o valor total pago em todas as vendas, de IPI e ICMS, ao longo de todo o período.\n"
      ],
      "metadata": {
        "id": "erOMAa5b8KS_"
      },
      "id": "erOMAa5b8KS_"
    },
    {
      "cell_type": "code",
      "execution_count": null,
      "id": "5f495342",
      "metadata": {
        "colab": {
          "base_uri": "https://localhost:8080/"
        },
        "id": "5f495342",
        "outputId": "32775ce1-32b9-40b7-880c-93c5798b302b"
      },
      "outputs": [
        {
          "output_type": "stream",
          "name": "stdout",
          "text": [
            "+-----------------+\n",
            "|        sum(ICMS)|\n",
            "+-----------------+\n",
            "|175146.3895679824|\n",
            "+-----------------+\n",
            "\n",
            "+-----------------+\n",
            "|         sum(IPI)|\n",
            "+-----------------+\n",
            "|814306.3698568121|\n",
            "+-----------------+\n",
            "\n"
          ]
        }
      ],
      "source": [
        "df.select(sum(df.ICMS)).show()\n",
        "df.select(sum(df.IPI)).show()"
      ]
    },
    {
      "cell_type": "markdown",
      "source": [
        "Usando o select, chamamos as colulas Descricao e Total_NF, e filtramos pela coluna Total_NF apenas valores maior igual a 1000."
      ],
      "metadata": {
        "id": "7_icvmy47m12"
      },
      "id": "7_icvmy47m12"
    },
    {
      "cell_type": "code",
      "execution_count": null,
      "id": "6bd45346",
      "metadata": {
        "colab": {
          "base_uri": "https://localhost:8080/"
        },
        "id": "6bd45346",
        "outputId": "05d5acd1-2a18-4c10-82db-66a380c46dd6"
      },
      "outputs": [
        {
          "output_type": "stream",
          "name": "stdout",
          "text": [
            "+--------------------+--------+\n",
            "|           Descricao|Total_NF|\n",
            "+--------------------+--------+\n",
            "| COMPUTADOR PENTI...|  1550.0|\n",
            "| PROCESSADOR CORE I7|  1799.0|\n",
            "| CENTRAL DE COMAN...|  2040.0|\n",
            "| PLACA MAE ASUS P...|  1338.0|\n",
            "| CONJ. PPA DZ JET...|  2200.0|\n",
            "| CADEIRA FORTREK ...|  1599.0|\n",
            "| CADEIRA GAMER TH...|  1999.0|\n",
            "| NOBREAK 600VA SM...|  1440.0|\n",
            "| COMPUTADOR NTC P...|  5980.0|\n",
            "| TELA DE NOTEBOOK...|  1100.0|\n",
            "+--------------------+--------+\n",
            "only showing top 10 rows\n",
            "\n"
          ]
        }
      ],
      "source": [
        "df.select(\"Descricao\", \"Total_NF\").filter(df.Total_NF >= 1000).show(10)"
      ]
    },
    {
      "cell_type": "markdown",
      "source": [
        "Agora, aplicamos duas condições em nossa busca, usando o & (and)."
      ],
      "metadata": {
        "id": "XolIUANP9GR0"
      },
      "id": "XolIUANP9GR0"
    },
    {
      "cell_type": "code",
      "execution_count": null,
      "id": "3f4978b2",
      "metadata": {
        "colab": {
          "base_uri": "https://localhost:8080/"
        },
        "id": "3f4978b2",
        "outputId": "1705ede7-c02a-4649-df3c-061b365ac339"
      },
      "outputs": [
        {
          "output_type": "stream",
          "name": "stdout",
          "text": [
            "+--------+--------+\n",
            "|      ID|Total_NF|\n",
            "+--------+--------+\n",
            "|99003200|  3780.0|\n",
            "|99003200|  2900.0|\n",
            "+--------+--------+\n",
            "\n"
          ]
        }
      ],
      "source": [
        "df.select(\"ID\", \"Total_NF\").filter((col(\"ID\") == \"99003200\") & (col(\"Total_NF\") >= 1000)).show()"
      ]
    },
    {
      "cell_type": "markdown",
      "source": [
        "Aqui também utilizamos duas condições em nosso filtro e usamos o operador like, para mostrar qualquer coisa da coluna Descricao que tenha a palavra MONITOR e que tenha sido uma venda maior igual a 2000."
      ],
      "metadata": {
        "id": "NpdblWN29dzG"
      },
      "id": "NpdblWN29dzG"
    },
    {
      "cell_type": "code",
      "execution_count": null,
      "id": "4c1f4d2e",
      "metadata": {
        "colab": {
          "base_uri": "https://localhost:8080/"
        },
        "id": "4c1f4d2e",
        "outputId": "f1b38bbb-9887-44ce-a277-7019267b2a77"
      },
      "outputs": [
        {
          "output_type": "stream",
          "name": "stdout",
          "text": [
            "+--------------------+--------+\n",
            "|           Descricao|Total_NF|\n",
            "+--------------------+--------+\n",
            "|\" MONITOR 23,6\"\" ...|  2440.0|\n",
            "|\" MONITOR LED 21,...| 5749.78|\n",
            "| MONITOR 18,5 VGA...|  2196.0|\n",
            "| MONITOR 18,5 VGA...|  2995.0|\n",
            "| MONITOR 18,5 VGA...|  3434.7|\n",
            "| MONITOR 18,5 VGA...|  3414.6|\n",
            "| MONITOR 18,5 VGA...|  3414.6|\n",
            "| MONITOR 18,5 VGA...| 3876.75|\n",
            "| MONITOR 18,5 VGA...|  2047.8|\n",
            "|\" MONITOR 23,6\"\" ...| 2525.89|\n",
            "+--------------------+--------+\n",
            "only showing top 10 rows\n",
            "\n"
          ]
        }
      ],
      "source": [
        "df.select(\"Descricao\", \"Total_NF\").filter(df.Descricao.like(\"%MONITOR%\") & (col(\"Total_NF\") >= 2000)).show(10)"
      ]
    },
    {
      "cell_type": "markdown",
      "source": [
        "Aqui utilizamos apenas o filter, o operador like e as condições, para que tenhamos de retorno a tabela com todas as colunas."
      ],
      "metadata": {
        "id": "BEhAnNpt_UON"
      },
      "id": "BEhAnNpt_UON"
    },
    {
      "cell_type": "code",
      "execution_count": null,
      "id": "00b6fc1d",
      "metadata": {
        "colab": {
          "base_uri": "https://localhost:8080/"
        },
        "id": "00b6fc1d",
        "outputId": "d3234304-8540-4509-ea0e-97a0580152ae"
      },
      "outputs": [
        {
          "output_type": "stream",
          "name": "stdout",
          "text": [
            "+--------+------------------------------------------------------------------+----------------+--------+-------+------+\n",
            "|ID      |Descricao                                                         |Data de Emissão |Total_NF|IPI    |ICMS  |\n",
            "+--------+------------------------------------------------------------------+----------------+--------+-------+------+\n",
            "|99000069| COMPUTADOR AMD ATHLON 200GE / PLACA MAE GIGABYTE A320M           |2022-02-21      |5144.8  |1362.86|360.14|\n",
            "|99000069| COMPUTADOR AMD ATHLON 200GE / PLACA MAE GIGABYTE A320M           |2022-02-28      |1687.0  |446.89 |118.09|\n",
            "|99010365| PLACA MAE ASUS PRIME H510M                                       |2022-03-14      |2286.0  |605.56 |160.02|\n",
            "|99010365| PLACA MAE ASUS PRIME H510M                                       |2022-03-15      |2100.0  |556.29 |147.0 |\n",
            "|99010365| PLACA MAE ASUS PRIME H510M                                       |2022-03-30      |1500.0  |397.35 |105.0 |\n",
            "|99000298| PLACA MAE INTEL 1200 PCWARE H510G (UN)                           |2022-05-16      |1597.93 |423.29 |111.86|\n",
            "|99001045| PLACA MAE INTEL ASROCK H510MHVS LGA1200 (UN)                     |2022-05-16      |2300.31 |609.35 |161.02|\n",
            "|99009927| PLACA MAE BRX H61 LGA 1155 DDR3 (M) (UN)                         |2022-06-06      |2290.61 |808.81 |77.88 |\n",
            "|99001045| PLACA MAE INTEL ASROCK H510MHVS LGA1200 (UN)                     |2022-06-24      |3024.84 |712.65 |102.84|\n",
            "|99001215| PLACA MAE INTEL ASUS PRIME H610ME D4 DDR4 LGA1700 12 GERACAO (UN)|2022-06-27      |1931.89 |455.15 |65.68 |\n",
            "|99001314| PLACA MAE ASROCK B560M PRO4, INTEL LGA1200, MICRO ATX, DDR4 (UN) |2022-07-07      |2349.0  |553.42 |79.87 |\n",
            "|99001486| PLACA MAE INTEL GIGABYTE B660M DS3H DDR5 LGA1700 12 GERACAO (UN) |2022-08-24      |1669.47 |393.33 |56.76 |\n",
            "|99000299| PLACA MAE INTEL 1200 GIGABYTE  H410M H V3 (UN)                   |2022-09-08      |3513.14 |827.7  |119.45|\n",
            "|99000299| PLACA MAE INTEL 1200 GIGABYTE  H410M H V3 (UN)                   |2022-09-08      |2810.51 |662.16 |95.56 |\n",
            "|99000299| PLACA MAE INTEL 1200 GIGABYTE  H410M H V3 (UN)                   |2022-12-21      |2247.0  |0.0    |0.0   |\n",
            "|99000299| PLACA MAE INTEL 1200 GIGABYTE  H410M H V3 (UN)                   |2023-03-27      |7087.5  |1413.25|240.98|\n",
            "|99002681| PLACA MAE ASUS PRIME Z690                                        |2023-05-15      |2769.3  |584.6  |94.16 |\n",
            "|99001215| PLACA MAE INTEL ASUS PRIME H610ME D4 DDR4 LGA1700 12 GERACAO (UN)|2023-07-31      |1798.0  |379.56 |61.13 |\n",
            "+--------+------------------------------------------------------------------+----------------+--------+-------+------+\n",
            "\n"
          ]
        }
      ],
      "source": [
        "df.filter(df.Descricao.like(\"%PLACA MAE%\") & (col(\"Total_NF\") >= 1500)).show(30, truncate=False)"
      ]
    },
    {
      "cell_type": "markdown",
      "source": [
        "Aqui nós agrupamos pela coluna Descricao através da função groupBy(), utilizamos a função agg() para fazermos a soma de quanto foi pago de IPI por produto ao longo de todo período, ordenamos com o OrderBy e colocamos em ordem decrescente."
      ],
      "metadata": {
        "id": "tqjMumL4BEHA"
      },
      "id": "tqjMumL4BEHA"
    },
    {
      "cell_type": "code",
      "source": [
        "df.groupBy('Descricao').agg({'IPI' : 'sum'}).orderBy(('sum(IPI)'), ascending=False).show(10, truncate=False)"
      ],
      "metadata": {
        "colab": {
          "base_uri": "https://localhost:8080/"
        },
        "id": "y2eBYry6eIky",
        "outputId": "f3e0a65d-93b5-4144-8540-c012fb45b95a"
      },
      "id": "y2eBYry6eIky",
      "execution_count": null,
      "outputs": [
        {
          "output_type": "stream",
          "name": "stdout",
          "text": [
            "+---------------------------------------------------------+------------------+\n",
            "|Descricao                                                |sum(IPI)          |\n",
            "+---------------------------------------------------------+------------------+\n",
            "| MONITOR 18,5 VGA AOC LED E970SWHNL US ( F ) (UN)        |14571.32992553711 |\n",
            "| PROCESSADOR INTEL CORE I5                               |13894.719947814941|\n",
            "| PLACA MAE INTEL 1200 GIGABYTE  H410M H V3 (UN)          |10339.959976196289|\n",
            "| Memoria 16GB DDR4 Servidor HP DL160 (UN)                |10194.690124511719|\n",
            "| NOTEBOOK DELL INSPIRON i7                               |9185.170166015625 |\n",
            "| SSD 240GB KINGSTON (UN)                                 |9038.160026550293 |\n",
            "| AP UNIFI AC LITE BR U6 (UN)                             |8727.410095214844 |\n",
            "| IMPRESSORA FISCAL BEMATECH MP                           |8250.89990234375  |\n",
            "| CONTROLE DE ACESSO FACIAL HIKVISION (UN)                |8176.7999267578125|\n",
            "| IMPRESSORA TÉRMICA NÃO FISCAL ELGIN I9 USB/ETHERNET (UN)|8078.099899291992 |\n",
            "+---------------------------------------------------------+------------------+\n",
            "only showing top 10 rows\n",
            "\n"
          ]
        }
      ]
    },
    {
      "cell_type": "markdown",
      "source": [
        "Outra maneira um pouco diferente sintaticamente para chamar a função agg, porém agora para saber quanto foi pago de ICMS."
      ],
      "metadata": {
        "id": "qv5picGmDfjt"
      },
      "id": "qv5picGmDfjt"
    },
    {
      "cell_type": "code",
      "source": [
        "df.groupBy(\"Descricao\").agg(sum(\"ICMS\")).orderBy(\"sum(ICMS)\", ascending=False).show(10, truncate=False)\n"
      ],
      "metadata": {
        "colab": {
          "base_uri": "https://localhost:8080/"
        },
        "id": "afImEDpIriVT",
        "outputId": "6060af24-0717-4f0a-c5ac-f0a8d68843c3"
      },
      "id": "afImEDpIriVT",
      "execution_count": null,
      "outputs": [
        {
          "output_type": "stream",
          "name": "stdout",
          "text": [
            "+---------------------------------------------------------+------------------+\n",
            "|Descricao                                                |sum(ICMS)         |\n",
            "+---------------------------------------------------------+------------------+\n",
            "| BOBINA TERMICA 1 VIA 80X40M                             |4603.469985187054 |\n",
            "| PROCESSADOR INTEL CORE I5                               |3828.169990539551 |\n",
            "| MONITOR 18,5 VGA AOC LED E970SWHNL US ( F ) (UN)        |3360.109998703003 |\n",
            "| PISO ELEVADO (M)                                        |3221.9998779296875|\n",
            "| CONTROLE DE ACESSO FACIAL HIKVISION (UN)                |1863.4999389648438|\n",
            "| NOTEBOOK LENOVO I7                                      |1826.2700500488281|\n",
            "| PROCESSADOR INTEL CORE I3                               |1772.879991531372 |\n",
            "| SSD 240GB KINGSTON (UN)                                 |1700.1600069999695|\n",
            "| SERVIDOR 96 RAM DELL R540 (UN)                          |1624.0            |\n",
            "| IMPRESSORA TÉRMICA NÃO FISCAL ELGIN I9 USB/ETHERNET (UN)|1571.5699920654297|\n",
            "+---------------------------------------------------------+------------------+\n",
            "only showing top 10 rows\n",
            "\n"
          ]
        }
      ]
    },
    {
      "cell_type": "markdown",
      "source": [
        "Criamos uma coluna com o withColumn, nomeamos como \"Melhores Vendas\" e aplicamos uma condição com o when e o otherwise. São analogamente um if e else. Atribuímos uma condição ao when, caso nao seja verdadeiro o otherwise será validado.\n",
        "Se as vendas forem maior ou igual a 500 reais, será escrito ao lado \"Venda BOA\", caso contrário, irá aparecer um \"emoji\" triste."
      ],
      "metadata": {
        "id": "zpHZSbcYEX06"
      },
      "id": "zpHZSbcYEX06"
    },
    {
      "cell_type": "code",
      "source": [
        "df.withColumn(\"Melhores Vendas\", when(col(\"Total_NF\") >= 500, \"Venda BOA\").otherwise(\":(\")).show(10)"
      ],
      "metadata": {
        "id": "-lZq0Kzh1eie",
        "colab": {
          "base_uri": "https://localhost:8080/"
        },
        "outputId": "770104b1-fe46-4f92-897c-ae18afbf28ff"
      },
      "id": "-lZq0Kzh1eie",
      "execution_count": null,
      "outputs": [
        {
          "output_type": "stream",
          "name": "stdout",
          "text": [
            "+--------+--------------------+----------------+--------+------+-----+---------------+\n",
            "|      ID|           Descricao|Data de Emissão |Total_NF|   IPI| ICMS|Melhores Vendas|\n",
            "+--------+--------------------+----------------+--------+------+-----+---------------+\n",
            "|99003200| BOBINA TERMICA 1...|      2022-01-03|   270.0| 49.17| 45.9|             :(|\n",
            "|99003200| BOBINA TERMICA 1...|      2022-01-03|   280.0| 50.99| 47.6|             :(|\n",
            "|99010356| PLACA MAE BRX H8...|      2022-01-03|   750.0|198.68| 52.5|      Venda BOA|\n",
            "|99003200| BOBINA TERMICA 1...|      2022-01-03|   135.0| 24.58|22.95|             :(|\n",
            "|99003200| BOBINA TERMICA 1...|      2022-01-03|   135.0| 24.58|22.95|             :(|\n",
            "|99003200| BOBINA TERMICA 1...|      2022-01-03|   138.0| 25.13|23.46|             :(|\n",
            "|99010464| COMPUTADOR PENTI...|      2022-01-03|  1550.0| 410.6|108.5|      Venda BOA|\n",
            "|99008788| SSD 120GB HIKVIS...|      2022-01-03|   200.0| 84.56| 14.0|             :(|\n",
            "|99009622| IMPRESSORA GEREN...|      2022-01-04|   690.0|291.73| 48.3|      Venda BOA|\n",
            "|99003200| BOBINA TERMICA 1...|      2022-01-04|   135.0| 24.58|22.95|             :(|\n",
            "+--------+--------------------+----------------+--------+------+-----+---------------+\n",
            "only showing top 10 rows\n",
            "\n"
          ]
        }
      ]
    },
    {
      "cell_type": "code",
      "source": [
        "# segunda maneira de chamar o comando acima usando o lit().\n",
        "#df.withColumn(\"Melhores Vendas\", when(col(\"Total_NF\") == lit(2000), \"Venda BOA :)\").otherwise(':/')).show(30)"
      ],
      "metadata": {
        "id": "9hBxHkJf2bgM"
      },
      "id": "9hBxHkJf2bgM",
      "execution_count": null,
      "outputs": []
    },
    {
      "cell_type": "markdown",
      "source": [
        "Carregando o dataframe compras.csv."
      ],
      "metadata": {
        "id": "Ko6EE-TWHfw-"
      },
      "id": "Ko6EE-TWHfw-"
    },
    {
      "cell_type": "code",
      "source": [
        "df_compras = spark.read.csv('/content/compras.csv', header=True, inferSchema=True)\n",
        "df_compras.show(10, truncate=False)"
      ],
      "metadata": {
        "colab": {
          "base_uri": "https://localhost:8080/"
        },
        "id": "jcIlHk-eYAHD",
        "outputId": "771e0322-d2f1-4f26-e1c9-7688a2e361e4"
      },
      "id": "jcIlHk-eYAHD",
      "execution_count": null,
      "outputs": [
        {
          "output_type": "stream",
          "name": "stdout",
          "text": [
            "+--------------------------------------------------------------------+----------------+-------------------------------------------+-----------+----------+-------------------+------------+-------------+\n",
            "|Descrição do Produto                                                |Data de Registro|Fornecedor                                 |Nota Fiscal|Quantidade|Total de Mercadoria|Valor do IPI|Valor do ICMS|\n",
            "+--------------------------------------------------------------------+----------------+-------------------------------------------+-----------+----------+-------------------+------------+-------------+\n",
            "| 46I9USECKD02_SC ELGIN IMPRESSORA I9 FULL USB SERIAL ETHERNET C GUIL|2021-11-24      |SCANSOURCE DO BRASIL                       |21905      |15.0      |7875.0             |0.0         |945.0        |\n",
            "| PLACA MON PRINCIPAL C BABY BOARD L42PRO                            |2021-11-24      |ELGIN S A - Matriz                         |307034     |1.0       |1.0                |0.15        |0.04         |\n",
            "| IMPRESSORA NÃO FISCAL PC FORT XP E200M                             |2021-11-24      |S&S BOUTIQUE DE CARNES E BISTRO EIRELI     |5079585    |3.0       |2100.0             |0.0         |0.0          |\n",
            "| TECLADO PARA NOTEBOOK ACER ASPIRE 3 A315                           |2021-11-24      |FILIAL SC - PROXYS COMERCIO ELETRONICO LTDA|44478      |1.0       |51.99              |7.8         |9.26         |\n",
            "| Tela 156 LED Slim Para Notebook Part Number NT156WHM               |2021-11-24      |FILIAL SC - PROXYS COMERCIO ELETRONICO LTDA|44478      |1.0       |635.83             |12.72       |113.2        |\n",
            "| TELEFONE IP X1S                                                    |2021-11-27      |ES PLANTEC DISTRIBUIDORA                   |2105       |5.0       |1727.08            |172.71      |72.68        |\n",
            "| Teclado Dell Vostro V14T                                           |2021-11-29      |FILIAL SC - PROXYS COMERCIO ELETRONICO LTDA|46174      |1.0       |53.92              |8.09        |13.92        |\n",
            "| MIKROTIK CLOUD SMART SWITCH CSS326                                 |2021-11-29      |DIGITAL SAT                                |209067     |2.0       |2107.46            |316.12      |252.9        |\n",
            "| CAIXA HERMETICA 10X10                                              |2021-11-29      |DIGITAL SAT                                |18758      |30.0      |207.6              |0.0         |24.91        |\n",
            "| MOUSE LOGITECH SEM FIO M220 SILENT ROSA 910006126                  |2021-11-29      |PAUTA DISTRIBUIDORA - PR                   |209221     |1.0       |61.58              |0.0         |2.46         |\n",
            "+--------------------------------------------------------------------+----------------+-------------------------------------------+-----------+----------+-------------------+------------+-------------+\n",
            "only showing top 10 rows\n",
            "\n"
          ]
        }
      ]
    },
    {
      "cell_type": "markdown",
      "source": [
        "Carregando o dataframe fornecedores.csv."
      ],
      "metadata": {
        "id": "1Lcc54cvHslh"
      },
      "id": "1Lcc54cvHslh"
    },
    {
      "cell_type": "code",
      "source": [
        "df_fornec = spark.read.csv('/content/fornecedores.csv', header=True, inferSchema=True, sep=\";\")\n",
        "df_fornec.show(10, truncate=False)"
      ],
      "metadata": {
        "colab": {
          "base_uri": "https://localhost:8080/"
        },
        "id": "CNqFfyS2aSfh",
        "outputId": "9b9dfee8-5edc-4ef0-e359-188a5fa16475"
      },
      "id": "CNqFfyS2aSfh",
      "execution_count": null,
      "outputs": [
        {
          "output_type": "stream",
          "name": "stdout",
          "text": [
            "+------------------+----------------------------------------------------+------------------+---------------------------+--------------------------+------------------+--------------------+\n",
            "|CNPJ / CPF        |Nome Fantasia                                       |Telefone          |E-mail                     |Cidade                    |Inscrição Estadual|Contribuinte do ICMS|\n",
            "+------------------+----------------------------------------------------+------------------+---------------------------+--------------------------+------------------+--------------------+\n",
            "|42.846.634/0001-00|PAULINERIS TRANSP. E ENCOMENDAS LTDA.               |NULL              |NULL                       |Alfenas (MG)              |NULL              |Não                 |\n",
            "|28.542.149/0002-00|JS LOCADORA DE VEICULOS LTDA EM RECUPERACAO JUDICIAL|(47) 9615-9276    |societario@blu.ideal.cnt.br|São Paulo (SP)            |123.953.965.112   |Sim                 |\n",
            "|48.740.351/0003-27|BRASPRESS                                           |(41) 412105-2800  |NULL                       |Curitiba (PR)             |9030546625        |Sim                 |\n",
            "|48.740.351/0036-95|BRASPRESS                                           |NULL              |NULL                       |Maringa (PR)              |9031933797        |Sim                 |\n",
            "|82.110.818/0002-02|ALFA TRANSPORTES EIRELI                             |(55) 55413265-2626|NULL                       |Curitiba (PR)             |1017920304        |Sim                 |\n",
            "|83.083.428/0001-72|REUNIDAS                                            |(49) 493561-5500  |NULL                       |Caçador (SC)              |250568837         |Sim                 |\n",
            "|83.261.420/0023-64|BISTEK - BALNEARIO                                  |NULL              |NULL                       |Balneario Camboriu (SC)   |258430583         |Sim                 |\n",
            "|83.109.504/0011-43|COREMMA LTDA 5 AV                                   |(55) 55473221-7724|NULL                       |Balneario Camboriu (SC)   |257934103         |Sim                 |\n",
            "|18.076.276/0001-19|MAXMETAL                                            |(17) 3512-5793    |NULL                       |São José do Rio Preto (SP)|6,48E+11          |Sim                 |\n",
            "|22.939.519/0001-72|ALIANCA EXPRESS TRANSPORTES                         |(11) 2446-0087    |NULL                       |Guarulhos (SP)            |7,97E+11          |Sim                 |\n",
            "+------------------+----------------------------------------------------+------------------+---------------------------+--------------------------+------------------+--------------------+\n",
            "only showing top 10 rows\n",
            "\n"
          ]
        }
      ]
    },
    {
      "cell_type": "markdown",
      "source": [
        "Verificando valores ausentes."
      ],
      "metadata": {
        "id": "lqWYZ-UBH5t3"
      },
      "id": "lqWYZ-UBH5t3"
    },
    {
      "cell_type": "code",
      "source": [
        "df_fornec.toPandas().isna().sum()"
      ],
      "metadata": {
        "colab": {
          "base_uri": "https://localhost:8080/"
        },
        "id": "f-FoO9uMh5WA",
        "outputId": "a28f160d-ccea-43fb-8aed-3905c898d521"
      },
      "id": "f-FoO9uMh5WA",
      "execution_count": null,
      "outputs": [
        {
          "output_type": "execute_result",
          "data": {
            "text/plain": [
              "CNPJ / CPF                2\n",
              "Nome Fantasia             0\n",
              "Telefone                463\n",
              "E-mail                  975\n",
              "Cidade                    0\n",
              "Inscrição Estadual      176\n",
              "Contribuinte do ICMS      0\n",
              "dtype: int64"
            ]
          },
          "metadata": {},
          "execution_count": 125
        }
      ]
    },
    {
      "cell_type": "markdown",
      "source": [
        "Excluindo a coluna e-mail pelo excesso de valores ausentes."
      ],
      "metadata": {
        "id": "2lDPQpQ_IDfB"
      },
      "id": "2lDPQpQ_IDfB"
    },
    {
      "cell_type": "code",
      "source": [
        "df_fornec = df_fornec.drop('E-mail')\n",
        "df_fornec.show(10, truncate=False)"
      ],
      "metadata": {
        "colab": {
          "base_uri": "https://localhost:8080/"
        },
        "id": "quDV7W64aVAd",
        "outputId": "50173672-fd87-4add-9dfa-d5ab23b4b63e"
      },
      "id": "quDV7W64aVAd",
      "execution_count": null,
      "outputs": [
        {
          "output_type": "stream",
          "name": "stdout",
          "text": [
            "+------------------+----------------------------------------------------+------------------+--------------------------+------------------+--------------------+\n",
            "|CNPJ / CPF        |Nome Fantasia                                       |Telefone          |Cidade                    |Inscrição Estadual|Contribuinte do ICMS|\n",
            "+------------------+----------------------------------------------------+------------------+--------------------------+------------------+--------------------+\n",
            "|42.846.634/0001-00|PAULINERIS TRANSP. E ENCOMENDAS LTDA.               |NULL              |Alfenas (MG)              |NULL              |Não                 |\n",
            "|28.542.149/0002-00|JS LOCADORA DE VEICULOS LTDA EM RECUPERACAO JUDICIAL|(47) 9615-9276    |São Paulo (SP)            |123.953.965.112   |Sim                 |\n",
            "|48.740.351/0003-27|BRASPRESS                                           |(41) 412105-2800  |Curitiba (PR)             |9030546625        |Sim                 |\n",
            "|48.740.351/0036-95|BRASPRESS                                           |NULL              |Maringa (PR)              |9031933797        |Sim                 |\n",
            "|82.110.818/0002-02|ALFA TRANSPORTES EIRELI                             |(55) 55413265-2626|Curitiba (PR)             |1017920304        |Sim                 |\n",
            "|83.083.428/0001-72|REUNIDAS                                            |(49) 493561-5500  |Caçador (SC)              |250568837         |Sim                 |\n",
            "|83.261.420/0023-64|BISTEK - BALNEARIO                                  |NULL              |Balneario Camboriu (SC)   |258430583         |Sim                 |\n",
            "|83.109.504/0011-43|COREMMA LTDA 5 AV                                   |(55) 55473221-7724|Balneario Camboriu (SC)   |257934103         |Sim                 |\n",
            "|18.076.276/0001-19|MAXMETAL                                            |(17) 3512-5793    |São José do Rio Preto (SP)|6,48E+11          |Sim                 |\n",
            "|22.939.519/0001-72|ALIANCA EXPRESS TRANSPORTES                         |(11) 2446-0087    |Guarulhos (SP)            |7,97E+11          |Sim                 |\n",
            "+------------------+----------------------------------------------------+------------------+--------------------------+------------------+--------------------+\n",
            "only showing top 10 rows\n",
            "\n"
          ]
        }
      ]
    },
    {
      "cell_type": "markdown",
      "source": [
        "Renomeando a coluna Nome Fantasia."
      ],
      "metadata": {
        "id": "2zrSgqSkIUJV"
      },
      "id": "2zrSgqSkIUJV"
    },
    {
      "cell_type": "code",
      "source": [
        "df_fornec = df_fornec.withColumnRenamed(\"Nome Fantasia\", \"Fornecedor\")\n",
        "df_fornec.show(5, truncate=False)"
      ],
      "metadata": {
        "colab": {
          "base_uri": "https://localhost:8080/"
        },
        "id": "jHNjos1jgfp2",
        "outputId": "ada6a4f5-4585-4c9e-ee92-67b33b98f432"
      },
      "id": "jHNjos1jgfp2",
      "execution_count": null,
      "outputs": [
        {
          "output_type": "stream",
          "name": "stdout",
          "text": [
            "+------------------+----------------------------------------------------+------------------+--------------+------------------+--------------------+\n",
            "|CNPJ / CPF        |Fornecedor                                          |Telefone          |Cidade        |Inscrição Estadual|Contribuinte do ICMS|\n",
            "+------------------+----------------------------------------------------+------------------+--------------+------------------+--------------------+\n",
            "|42.846.634/0001-00|PAULINERIS TRANSP. E ENCOMENDAS LTDA.               |NULL              |Alfenas (MG)  |NULL              |Não                 |\n",
            "|28.542.149/0002-00|JS LOCADORA DE VEICULOS LTDA EM RECUPERACAO JUDICIAL|(47) 9615-9276    |São Paulo (SP)|123.953.965.112   |Sim                 |\n",
            "|48.740.351/0003-27|BRASPRESS                                           |(41) 412105-2800  |Curitiba (PR) |9030546625        |Sim                 |\n",
            "|48.740.351/0036-95|BRASPRESS                                           |NULL              |Maringa (PR)  |9031933797        |Sim                 |\n",
            "|82.110.818/0002-02|ALFA TRANSPORTES EIRELI                             |(55) 55413265-2626|Curitiba (PR) |1017920304        |Sim                 |\n",
            "+------------------+----------------------------------------------------+------------------+--------------+------------------+--------------------+\n",
            "only showing top 5 rows\n",
            "\n"
          ]
        }
      ]
    },
    {
      "cell_type": "markdown",
      "source": [
        "Juntando informações entre duas tabelas pela coluna Fornecedor, através do INNER JOIN."
      ],
      "metadata": {
        "id": "-_vdKcnbIuuo"
      },
      "id": "-_vdKcnbIuuo"
    },
    {
      "cell_type": "code",
      "source": [
        "df_novo = df_compras.join(df_fornec, df_compras['Fornecedor'] == df_fornec['Fornecedor'], 'inner')\n",
        "df_novo.show(10, truncate=False)"
      ],
      "metadata": {
        "colab": {
          "base_uri": "https://localhost:8080/"
        },
        "id": "KmptaAx4dTHE",
        "outputId": "10536940-5253-438f-96e1-01e6d707ee8b"
      },
      "id": "KmptaAx4dTHE",
      "execution_count": null,
      "outputs": [
        {
          "output_type": "stream",
          "name": "stdout",
          "text": [
            "+--------------------------------------------------------------------+----------------+-------------------------------------------+-----------+----------+-------------------+------------+-------------+------------------+-------------------------------------------+----------------+-----------------------+------------------+--------------------+\n",
            "|Descrição do Produto                                                |Data de Registro|Fornecedor                                 |Nota Fiscal|Quantidade|Total de Mercadoria|Valor do IPI|Valor do ICMS|CNPJ / CPF        |Fornecedor                                 |Telefone        |Cidade                 |Inscrição Estadual|Contribuinte do ICMS|\n",
            "+--------------------------------------------------------------------+----------------+-------------------------------------------+-----------+----------+-------------------+------------+-------------+------------------+-------------------------------------------+----------------+-----------------------+------------------+--------------------+\n",
            "| 46I9USECKD02_SC ELGIN IMPRESSORA I9 FULL USB SERIAL ETHERNET C GUIL|2021-11-24      |SCANSOURCE DO BRASIL                       |21905      |15.0      |7875.0             |0.0         |945.0        |05.607.657/0008-01|SCANSOURCE DO BRASIL                       |NULL            |Itajaí (SC)            |ISENTO            |Não                 |\n",
            "| TECLADO PARA NOTEBOOK ACER ASPIRE 3 A315                           |2021-11-24      |FILIAL SC - PROXYS COMERCIO ELETRONICO LTDA|44478      |1.0       |51.99              |7.8         |9.26         |11.027.350/0003-20|FILIAL SC - PROXYS COMERCIO ELETRONICO LTDA|(41) 3154-8116  |Joinville (SC)         |260876232         |Sim                 |\n",
            "| Tela 156 LED Slim Para Notebook Part Number NT156WHM               |2021-11-24      |FILIAL SC - PROXYS COMERCIO ELETRONICO LTDA|44478      |1.0       |635.83             |12.72       |113.2        |11.027.350/0003-20|FILIAL SC - PROXYS COMERCIO ELETRONICO LTDA|(41) 3154-8116  |Joinville (SC)         |260876232         |Sim                 |\n",
            "| TELEFONE IP X1S                                                    |2021-11-27      |ES PLANTEC DISTRIBUIDORA                   |2105       |5.0       |1727.08            |172.71      |72.68        |09.262.527/0004-01|ES PLANTEC DISTRIBUIDORA                   |NULL            |São Paulo (SP)         |83073825          |Sim                 |\n",
            "| Teclado Dell Vostro V14T                                           |2021-11-29      |FILIAL SC - PROXYS COMERCIO ELETRONICO LTDA|46174      |1.0       |53.92              |8.09        |13.92        |11.027.350/0003-20|FILIAL SC - PROXYS COMERCIO ELETRONICO LTDA|(41) 3154-8116  |Joinville (SC)         |260876232         |Sim                 |\n",
            "| MIKROTIK CLOUD SMART SWITCH CSS326                                 |2021-11-29      |DIGITAL SAT                                |209067     |2.0       |2107.46            |316.12      |252.9        |11.315.435/0004-94|DIGITAL SAT                                |(47) 3263-5555  |Balneario Camboriu (SC)|258259361         |Sim                 |\n",
            "| MIKROTIK CLOUD SMART SWITCH CSS326                                 |2021-11-29      |DIGITAL SAT                                |209067     |2.0       |2107.46            |316.12      |252.9        |11.315.435/0001-41|DIGITAL SAT                                |(47) 3263-5509  |Balneario Camboriu (SC)|255.983.026       |Sim                 |\n",
            "| CAIXA HERMETICA 10X10                                              |2021-11-29      |DIGITAL SAT                                |18758      |30.0      |207.6              |0.0         |24.91        |11.315.435/0004-94|DIGITAL SAT                                |(47) 3263-5555  |Balneario Camboriu (SC)|258259361         |Sim                 |\n",
            "| CAIXA HERMETICA 10X10                                              |2021-11-29      |DIGITAL SAT                                |18758      |30.0      |207.6              |0.0         |24.91        |11.315.435/0001-41|DIGITAL SAT                                |(47) 3263-5509  |Balneario Camboriu (SC)|255.983.026       |Sim                 |\n",
            "| MOUSE LOGITECH SEM FIO M220 SILENT ROSA 910006126                  |2021-11-29      |PAUTA DISTRIBUIDORA - PR                   |209221     |1.0       |61.58              |0.0         |2.46         |83.064.741/0003-25|PAUTA DISTRIBUIDORA - PR                   |(41) 413371-2900|Curitiba (PR)          |9017296113        |Sim                 |\n",
            "+--------------------------------------------------------------------+----------------+-------------------------------------------+-----------+----------+-------------------+------------+-------------+------------------+-------------------------------------------+----------------+-----------------------+------------------+--------------------+\n",
            "only showing top 10 rows\n",
            "\n"
          ]
        }
      ]
    }
  ],
  "metadata": {
    "kernelspec": {
      "display_name": "Python 3 (ipykernel)",
      "language": "python",
      "name": "python3"
    },
    "language_info": {
      "codemirror_mode": {
        "name": "ipython",
        "version": 3
      },
      "file_extension": ".py",
      "mimetype": "text/x-python",
      "name": "python",
      "nbconvert_exporter": "python",
      "pygments_lexer": "ipython3",
      "version": "3.9.7"
    },
    "colab": {
      "provenance": [],
      "include_colab_link": true
    }
  },
  "nbformat": 4,
  "nbformat_minor": 5
}